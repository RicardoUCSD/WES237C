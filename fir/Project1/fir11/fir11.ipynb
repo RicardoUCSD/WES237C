{
 "cells": [
  {
   "cell_type": "code",
   "execution_count": null,
   "id": "4772b39a",
   "metadata": {},
   "outputs": [],
   "source": [
    "from pynq import Overlay\n",
    "from pynq import MMIO\n",
    "import numpy as np\n",
    "\n",
    "ol = Overlay(\"./design_1_wrapper.bit\") # designate a bitstream to be flashed to the FPGA\n",
    "ol.download() # flash the FPGA\n",
    "\n",
    "fir_filter = MMIO(0x40000000, 0x10000) # (IP_BASE_ADDRESS, ADDRESS_RANGE), told to us in Vivado\n",
    "\n",
    "# Prepare input data\n",
    "input_data = np.array([1, 2, 3, 4, 5, 6, 7, 8, 9, 10, 11], dtype=np.int16)\n",
    "\n",
    "fir_filter.write(0x20, input_data) # write input value to input address in fabric\n",
    "print(\"input:\", mul_ip.read(0x20)) # confirm that our value was written correctly to the fabric\n",
    "fir_filter.write(0x00, 1) # set ap_start to 1 which initiates the process we wrote to the fabric\n",
    "print(\"output:\", fir_filter.read(0x10)) # read corresponding output value from the output address of the fabric"
   ]
  },
  {
   "cell_type": "code",
   "execution_count": null,
   "id": "e54aa9a0",
   "metadata": {},
   "outputs": [],
   "source": []
  }
 ],
 "metadata": {
  "kernelspec": {
   "display_name": "Python 3 (ipykernel)",
   "language": "python",
   "name": "python3"
  },
  "language_info": {
   "codemirror_mode": {
    "name": "ipython",
    "version": 3
   },
   "file_extension": ".py",
   "mimetype": "text/x-python",
   "name": "python",
   "nbconvert_exporter": "python",
   "pygments_lexer": "ipython3",
   "version": "3.10.4"
  }
 },
 "nbformat": 4,
 "nbformat_minor": 5
}
